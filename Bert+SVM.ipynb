{
  "cells": [
    {
      "cell_type": "markdown",
      "metadata": {
        "id": "view-in-github",
        "colab_type": "text"
      },
      "source": [
        "<a href=\"https://colab.research.google.com/github/Aviva-Chen/bertForClassification_/blob/main/Bert%2BSVM.ipynb\" target=\"_parent\"><img src=\"https://colab.research.google.com/assets/colab-badge.svg\" alt=\"Open In Colab\"/></a>"
      ]
    },
    {
      "cell_type": "code",
      "execution_count": null,
      "metadata": {
        "colab": {
          "base_uri": "https://localhost:8080/"
        },
        "id": "D5nfri0E4-AM",
        "outputId": "783d5a54-68ac-4bdb-9652-d827a6d90fca"
      },
      "outputs": [
        {
          "output_type": "stream",
          "name": "stdout",
          "text": [
            "Mounted at /content/gdrive\n",
            "/content/gdrive/MyDrive/bertFolder\n"
          ]
        }
      ],
      "source": [
        "import os\n",
        "from google.colab import drive\n",
        "drive.mount('/content/gdrive')\n",
        "path='/content/gdrive/MyDrive/bertFolder'\n",
        "os.chdir(path)\n",
        "print(os.getcwd())"
      ]
    },
    {
      "cell_type": "code",
      "execution_count": null,
      "metadata": {
        "id": "bGAxb6_B5Fr4"
      },
      "outputs": [],
      "source": [
        "!pip3 install torchvision\n",
        "!pip install transformers"
      ]
    },
    {
      "cell_type": "code",
      "execution_count": null,
      "metadata": {
        "colab": {
          "base_uri": "https://localhost:8080/"
        },
        "id": "xbLQTxy5KYdc",
        "outputId": "5e694f33-cdae-4c58-f5b2-766af59ab418"
      },
      "outputs": [
        {
          "output_type": "stream",
          "name": "stdout",
          "text": [
            "finish loading\n",
            "80000\n",
            "80000\n"
          ]
        }
      ],
      "source": [
        "import pandas as pd\n",
        "import torch\n",
        "from sklearn.svm import SVC\n",
        "from transformers import BertTokenizer, BertModel,AdamW,get_linear_schedule_with_warmup\n",
        "import joblib\n",
        "import random\n",
        "from sklearn.metrics import classification_report\n",
        "from sklearn.utils import shuffle\n",
        "\n",
        "#训练数据\n",
        "x1=[]\n",
        "y1=[]\n",
        "x2=[]\n",
        "y2=[]\n",
        "\n",
        "df0= pd.read_excel(\"/content/gdrive/MyDrive/bertFolder/wholeDataset.xlsx\",names=['title','label'])\n",
        "print('finish loading')\n",
        "df0 = shuffle(df0)\n",
        "df1=df0[0:80000]\n",
        "df2=df0[80000:160000]\n",
        "\n",
        "train_data1=list(df1['title'])\n",
        "for title in train_data1:\n",
        "    x1.append(str(title))\n",
        "y1=list(df1['label'])\n",
        "print(len(x1))\n",
        "train_data2=list(df2['title'])\n",
        "for title in train_data2:\n",
        "    x2.append(str(title))\n",
        "y2=list(df2['label'])\n",
        "print(len(x2))\n",
        "x_test=[]\n",
        "y_test=[]\n",
        "\n",
        "df1=test_df=pd.read_excel('/content/gdrive/MyDrive/bertFolder/testSet.xlsx',sheet_name='Sheet3',names=['title given by machine','label'])\n",
        "x=list(test_df['title given by machine'])\n",
        "\n",
        "x_test=[str(i) for i in x]\n",
        "y_test=list(test_df['label'])\n",
        "\n",
        "#encoding data\n",
        "from torch.utils.data import TensorDataset,Dataset,DataLoader,random_split, RandomSampler, SequentialSampler\n",
        "class DataToDataset(Dataset):\n",
        "    def __new__(cls,encoding,labels):\n",
        "        return Dataset.__new__(cls)\n",
        "    def __init__(self,encoding,labels):\n",
        "        self.encoding=encoding\n",
        "        self.labels=labels\n",
        "    def __len__(self):\n",
        "        return len(self.labels)\n",
        "    def __getitem__(self,index):\n",
        "        return self.encoding['input_ids'][index],self.encoding['attention_mask'][index],self.labels[index]\n",
        "cuda=torch.cuda.is_available()\n",
        "device=torch.device(\"cuda\" if cuda else \"cpu\")\n"
      ]
    },
    {
      "cell_type": "code",
      "execution_count": null,
      "metadata": {
        "id": "vcKgF1cONmZ8"
      },
      "outputs": [],
      "source": [
        "df1=df1.append(df2)\n",
        "df1.to_excel(r'/content/gdrive/MyDrive/bertFolder/dataForSVM_16w.xlsx')"
      ]
    },
    {
      "cell_type": "code",
      "execution_count": null,
      "metadata": {
        "id": "mZfffff0uxXd"
      },
      "outputs": [],
      "source": [
        "from transformers.models.auto.configuration_auto import model_type_to_module_name\n",
        "import numpy as np\n",
        "from torch import nn\n",
        "\n",
        "def getVector(x,y,device,model):\n",
        "\n",
        "  max_length = 32\n",
        "  tokenizer = BertTokenizer.from_pretrained('bert-base-uncased')\n",
        "  \n",
        "  model.cuda()\n",
        "\n",
        "  result = tokenizer(x, padding=True, truncation=True, max_length=max_length, return_tensors='pt')\n",
        "  labels=torch.tensor(y)\n",
        "  dataset = DataToDataset(result,labels)\n",
        "  \n",
        "  data_loader=DataLoader(dataset=dataset,batch_size=32)\n",
        "    \n",
        "  list0=[] #存储向量\n",
        "  for i,batch in enumerate(data_loader):\n",
        "      input_ids = batch[0].to(device)\n",
        "      attention_mask = batch[1].to(device)\n",
        "\n",
        "      model.zero_grad()\n",
        "            \n",
        "      #last_hidden_states = model(input_ids, attention_mask=attention_mask)\n",
        "      #feature_i= last_hidden_states[0][:, 0, :].detach().cpu().numpy()      \n",
        "      #因为output_hidden_states默认为false，模型的输出是包含两个值的元组，第一个值代表隐藏状态，第二值包含[CLS]标记的嵌入表示\n",
        "      xx,pooled_output = model(input_ids= input_ids, attention_mask=attention_mask,return_dict=False)\n",
        "      #dropout=nn.Dropout(0.5)\n",
        "      #dropout_output=dropout(pooled_output)\n",
        "      feature_i=pooled_output.detach().cpu().numpy()\n",
        "\n",
        "      for i in feature_i:            \n",
        "        list0.append(i.tolist())\n",
        "        #print(i.tolist())\n",
        "        #print(\"-----\")\n",
        "      \n",
        "  return list0"
      ]
    },
    {
      "cell_type": "code",
      "execution_count": null,
      "metadata": {
        "id": "T9m7EVUdW16s"
      },
      "outputs": [],
      "source": [
        "def train_svm(x_train_vec, y_train):\n",
        "    # C惩罚系数\n",
        "    clf = SVC(C=1, kernel='rbf',  decision_function_shape='ovr')\n",
        "    clf.fit(x_train_vec, y_train)\n",
        "    # 封装模型\n",
        "    print('保存模型...')\n",
        "    joblib.dump(clf, '/content/gdrive/MyDrive/bertFolder/bert_svm128.pkl')\n",
        "    return clf\n",
        "\n",
        "from sklearn.decomposition import PCA\n",
        "\n",
        "if __name__ == '__main__':\n",
        "  model = BertModel.from_pretrained('bert-base-uncased')\n",
        "  #model0 = torch.load(\"/content/gdrive/MyDrive/bertFolder/model1.pt\",map_location=torch.device('cpu'))\n",
        "  #model=model0.bert\n",
        "  x_vec1= getVector(x1,y1,device,model)  \n",
        "  x_test_vec=getVector(x_test,y_test,device,model)\n",
        "  pca = PCA(n_components=128,whiten=False,svd_solver='auto')\n",
        "  pca.fit(x_vec1)\n",
        "  x_vec_new1 = pca.fit_transform(x_vec1)\n",
        "  print(\"开始SVM！\")\n",
        "  x_vec2= getVector(x2,y2,device,model)\n",
        "  print(\"x_vec2:ok\")\n",
        "  x_vec_new2=pca.transform(x_vec2)\n",
        "  x_vec_new=list(x_vec_new1)+list(x_vec_new2)\n",
        "  y=y1+y2\n",
        "  \n",
        "  clf=train_svm(x_vec_new,y)\n",
        "  \n",
        "  svm = joblib.load('/content/gdrive/MyDrive/bertFolder/bert_svm128.pkl')\n",
        "  \n",
        "  x_test_vec_new=pca.transform(x_test_vec)\n",
        "  pred_labels = svm.predict(x_test_vec_new)\n",
        "\n",
        "  from sklearn.metrics import matthews_corrcoef\n",
        "  # Calculate the MCC\n",
        "  mcc = matthews_corrcoef(y_test, pred_labels)\n",
        "\n",
        "  print('Total MCC: %.3f' % mcc)\n",
        "\n",
        "  print(classification_report(y_test, pred_labels,digits=3)) "
      ]
    },
    {
      "cell_type": "code",
      "source": [
        "s_data1 = pd.DataFrame({'x_vec1':x_vec1,'y1':y1})\n",
        "s_data2 = pd.DataFrame({'x_vec2':x_vec2,'y2':y2})\n",
        "s_data1.to_excel(r'/content/gdrive/MyDrive/bertFolder/x_vec1.xlsx')\n",
        "s_data2.to_excel(r'/content/gdrive/MyDrive/bertFolder/x_vec2.xlsx')"
      ],
      "metadata": {
        "id": "0BAp8CyNoYXH"
      },
      "execution_count": null,
      "outputs": []
    },
    {
      "cell_type": "code",
      "execution_count": null,
      "metadata": {
        "id": "WwYcbtoe99yg"
      },
      "outputs": [],
      "source": [
        "pca = PCA(n_components=256,whiten=False,svd_solver='auto')\n",
        "pca.fit(x_vec1)\n",
        "x_vec_new1 = pca.fit_transform(x_vec1)\n",
        "x_vec_new2=pca.transform(x_vec2)\n",
        "x_vec_new=list(x_vec_new1)+list(x_vec_new2)\n",
        "y=y1+y2\n",
        "clf=train_svm(x_vec_new,y)\n",
        "  \n",
        "svm = joblib.load('/content/gdrive/MyDrive/bertFolder/bert_svm0.pkl')\n",
        "  \n",
        "x_test_vec_new=pca.transform(x_test_vec)\n",
        "pred_labels = svm.predict(x_test_vec_new)\n",
        "from sklearn.metrics import matthews_corrcoef\n",
        " # Calculate the MCC\n",
        "mcc = matthews_corrcoef(y_test, pred_labels)\n",
        "\n",
        "print('Total MCC: %.3f' % mcc)\n",
        "\n",
        "print(classification_report(y_test, pred_labels,digits=3)) "
      ]
    },
    {
      "cell_type": "code",
      "execution_count": null,
      "metadata": {
        "colab": {
          "background_save": true
        },
        "id": "PDBrbsKKj1uF"
      },
      "outputs": [],
      "source": [
        "pca = PCA(n_components=352,whiten=False,svd_solver='auto')\n",
        "pca.fit(x_vec1)\n",
        "x_vec_new1 = pca.fit_transform(x_vec1)\n",
        "x_vec2= getVector(x2,y2,device,model)\n",
        "x_vec_new2=pca.transform(x_vec2)\n",
        "x_vec_new=list(x_vec_new1)+list(x_vec_new2)\n",
        "y=y1+y2\n",
        "clf=train_svm(x_vec_new,y)\n",
        "  \n",
        "svm = joblib.load('/content/gdrive/MyDrive/bertFolder/bert_svm0.pkl')\n",
        "  \n",
        "x_test_vec_new=pca.transform(x_test_vec)\n",
        "pred_labels = svm.predict(x_test_vec_new)\n",
        "from sklearn.metrics import matthews_corrcoef\n",
        " # Calculate the MCC\n",
        "mcc = matthews_corrcoef(y_test, pred_labels)\n",
        "\n",
        "print('Total MCC: %.3f' % mcc)\n",
        "\n",
        "print(classification_report(y_test, pred_labels,digits=3)) "
      ]
    },
    {
      "cell_type": "code",
      "execution_count": null,
      "metadata": {
        "id": "dPlD5FCLiGa7"
      },
      "outputs": [],
      "source": []
    },
    {
      "cell_type": "code",
      "execution_count": null,
      "metadata": {
        "colab": {
          "base_uri": "https://localhost:8080/"
        },
        "id": "PTZxkUYQMX1U",
        "outputId": "a7134666-0bd6-488c-df7c-1b152bc5232a"
      },
      "outputs": [
        {
          "name": "stdout",
          "output_type": "stream",
          "text": [
            "60000\n",
            "120000\n"
          ]
        }
      ],
      "source": [
        "print(len(x_vec_new2))\n",
        "print(len(y))"
      ]
    },
    {
      "cell_type": "code",
      "execution_count": null,
      "metadata": {
        "id": "b3neppVPXHS5"
      },
      "outputs": [],
      "source": [
        "model0 = torch.load(\"/content/gdrive/MyDrive/bertFolder/model1.pt\",map_location=torch.device('cpu'))\n",
        "model=model0.bert\n",
        "x_test_vec=getVector(x_test,y_test,device,model)"
      ]
    },
    {
      "cell_type": "code",
      "execution_count": null,
      "metadata": {
        "id": "unRxkaB9WXI0"
      },
      "outputs": [],
      "source": [
        "from sklearn import manifold\n",
        "from sklearn.manifold import TSNE\n",
        "import pandas as pd\n",
        "import matplotlib.pyplot as plt\n",
        "import numpy as np\n",
        "\n",
        "tsne=manifold.TSNE(n_components=3,init='pca',random_state=501)\n",
        "x_vec=np.array(x_test_vec)\n",
        "s_lowWeights=tsne.fit_transform(x_vec)\n",
        "trueLabels=np.array(y_test)\n",
        "trueLabels=trueLabels.reshape((-1,1))\n",
        "\n",
        "s_data=np.hstack((s_lowWeights,trueLabels))\n",
        "s_data = pd.DataFrame({'x': s_data[:, 0], 'y': s_data[:, 1],'z': s_data[:, 2], 'label': s_data[:, 3]})\n",
        "print(s_data)"
      ]
    },
    {
      "cell_type": "code",
      "execution_count": null,
      "metadata": {
        "id": "iR_4nSxWWakI"
      },
      "outputs": [],
      "source": [
        "def visual(x):\n",
        "    tsne=manifold.TSNE(n_components=3,init='pca',random_state=501)\n",
        "    x_tsne=tsne.fit_transform(x)\n",
        "    #print(x_tsne)\n",
        "    print(\"Orginal data dimension is {}. Embedded data dimension is {}\".format(x.shape[-1], x_tsne.shape[-1]))\n",
        "\n",
        "    #嵌入空间可视化\n",
        "    x_min,x_max=x_tsne.min(0),x_tsne.max(0)\n",
        "    x_norm=(x_tsne-x_min)/(x_max-x_min)\n",
        "    \n",
        "    return x_norm\n",
        "\n",
        "x_vec=np.array(x_test_vec)\n",
        "y=np.array(y_test)\n",
        "\n",
        "s_lowWeights=visual(x_vec)\n",
        "trueLabels=y\n",
        "\n",
        "#降到2维以后的特征分别赋给x,y轴\n",
        "trueLabels=trueLabels.reshape((-1,1))\n",
        "\n",
        "s_data=np.hstack((s_lowWeights,trueLabels))\n",
        "#二维\n",
        "#s_data = pd.DataFrame({'x': s_data[:, 0], 'y': s_data[:, 1], 'label': s_data[:, 2]})\n",
        "#三维\n",
        "s_data = pd.DataFrame({'x': s_data[:, 0], 'y': s_data[:, 1],'z': s_data[:, 2], 'label': s_data[:, 3]})\n",
        "\n",
        "X=list(s_data['x'])\n",
        "Y=list(s_data['y'])\n",
        "Z=list(s_data['z'])\n",
        "label=list(s_data['label'])\n",
        " \n",
        "X0,Y0,Z0=[],[],[]\n",
        "X1,Y1,Z1=[],[],[]\n",
        "#data:dataFrame\n",
        "for i in range(1000):\n",
        "  #label[i]:str\n",
        "  if int(label[i])==0:\n",
        "    #print(X[i],Y[i])\n",
        "    X0.append(float(X[i]))\n",
        "    Y0.append(float(Y[i]))\n",
        "    Z0.append(float(Z[i]))\n",
        "  elif int(label[i])==1:\n",
        "    X1.append(float(X[i]))\n",
        "    Y1.append(float(Y[i]))\n",
        "    Z1.append(float(Z[i]))\n",
        "\n",
        "fig = plt.figure()\n",
        "ax = plt.subplot(111, projection='3d')\n",
        "\n",
        "p1 = ax.scatter(X0,Y0,Z0, marker='.', color='black', s=15)\n",
        "p2 = ax.scatter(X1,Y1,Z1, marker='.', color='red', s=15)\n",
        "\n",
        "plt.show()"
      ]
    },
    {
      "cell_type": "code",
      "source": [
        "fig = plt.figure()\n",
        "ax = plt.subplot(111, projection='3d')\n",
        "\n",
        "p1 = ax.scatter(X0,Z0,Y0, marker='.', color='black', s=15)\n",
        "p2 = ax.scatter(X1,Z1,Y1, marker='.', color='red', s=15)\n",
        "plt.ylim(0.8,1)\n",
        "ax.set_zlim3d(0,0.4)\n",
        "#plt.xticks([])\n",
        "plt.yticks([0.80,0.85,0.9,0.95,1])\n",
        "\n",
        "plt.show()"
      ],
      "metadata": {
        "colab": {
          "base_uri": "https://localhost:8080/",
          "height": 248
        },
        "id": "SLIDquHNUjXN",
        "outputId": "5393599c-0a2f-4c11-d43a-0f85c2394ce8"
      },
      "execution_count": null,
      "outputs": [
        {
          "output_type": "display_data",
          "data": {
            "text/plain": [
              "<Figure size 432x288 with 1 Axes>"
            ],
            "image/png": "[encoded data removed]"
          },
          "metadata": {
            "needs_background": "light"
          }
        }
      ]
    },
    {
      "cell_type": "code",
      "source": [
        "import matplotlib.pyplot as plt\n",
        "import numpy as np\n",
        "\n",
        "x_axis_data = [50,100,150,200,250,300] #x\n",
        "y_axis_data1 = [0.78,0.80,0.81,0.81,0.80,0.79] #y\n",
        "y_axis_data2 = [0.775,0.790,0.795,0.800,0.792,0.783] #y\n",
        "\n",
        "plt.plot(x_axis_data, y_axis_data1, 'b*--', alpha=0.5, linewidth=1, label='acc')\n",
        "plt.plot(x_axis_data, y_axis_data2, 'r*--', alpha=0.5, linewidth=1, label='F1_score')\n",
        "#'bo-'表示蓝色实线，数据点实心原点标注\n",
        "## plot中参数的含义分别是横轴值，纵轴值，线的形状（'s'方块,'o'实心圆点，'*'五角星   ...，颜色，透明度,线的宽度和标签 ，\n",
        "\n",
        "plt.legend()  #显示上面的label\n",
        "plt.ylim(0.7,0.85)\n",
        "plt.xlabel('time') #x_label\n",
        "plt.ylabel('number')#y_label\n",
        " \n",
        "#plt.ylim(-1,1)#仅设置y轴坐标范围\n",
        "plt.show()"
      ],
      "metadata": {
        "colab": {
          "base_uri": "https://localhost:8080/",
          "height": 279
        },
        "id": "79baF7bcc7TS",
        "outputId": "25b9ef38-860e-4417-9f8c-9f279a9e9c3d"
      },
      "execution_count": null,
      "outputs": [
        {
          "output_type": "display_data",
          "data": {
            "text/plain": [
              "<Figure size 432x288 with 1 Axes>"
            ],
            "image/png": "[encoded data removed]"
          },
          "metadata": {
            "needs_background": "light"
          }
        }
      ]
    }
  ],
  "metadata": {
    "colab": {
      "name": "Bert+SVM.ipynb",
      "provenance": [],
      "authorship_tag": "ABX9TyMQlnMNFinhiiTeHZtJBoml",
      "include_colab_link": true
    },
    "kernelspec": {
      "display_name": "Python 3",
      "name": "python3"
    },
    "language_info": {
      "name": "python"
    }
  },
  "nbformat": 4,
  "nbformat_minor": 0
}